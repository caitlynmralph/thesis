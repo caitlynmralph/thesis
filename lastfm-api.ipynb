{
 "cells": [
  {
   "cell_type": "markdown",
   "metadata": {},
   "source": [
    "# last.fm api\n",
    "## caitlyn ralph, msII thesis, MSDV parsons\n",
    "### <a href=\"https://docs.google.com/document/d/1yM7jbl-SWVWB8geDjit5u7G5zIE_AXSR7i7kT6s5mnA/edit\">dcoumentation</a>"
   ]
  },
  {
   "cell_type": "code",
   "execution_count": null,
   "metadata": {},
   "outputs": [],
   "source": [
    "import pylast\n",
    "\n",
    "API_KEY = \"b25b959554ed76058ac220b7b2e0a026\"  # this is a sample key\n",
    "API_SECRET = \"425b55975eed76058ac220b7b4e8a054\"\n",
    "\n",
    "username = \"ralpc\"\n",
    "password_hash = pylast.md5(\"your_password\")\n",
    "\n",
    "network = pylast.LastFMNetwork(api_key=API_KEY, api_secret=API_SECRET,\n",
    "                               username=username, password_hash=password_hash)\n",
    "\n",
    "artist = network.get_artist(\"System of a Down\")\n",
    "print(artist)"
   ]
  }
 ],
 "metadata": {
  "kernelspec": {
   "display_name": "Python 3",
   "language": "python",
   "name": "python3"
  },
  "language_info": {
   "codemirror_mode": {
    "name": "ipython",
    "version": 3
   },
   "file_extension": ".py",
   "mimetype": "text/x-python",
   "name": "python",
   "nbconvert_exporter": "python",
   "pygments_lexer": "ipython3",
   "version": "3.7.2"
  }
 },
 "nbformat": 4,
 "nbformat_minor": 2
}
